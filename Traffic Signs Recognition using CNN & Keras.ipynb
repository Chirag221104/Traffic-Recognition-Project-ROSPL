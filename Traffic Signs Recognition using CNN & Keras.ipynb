{
 "cells": [
  {
   "cell_type": "markdown",
   "metadata": {},
   "source": [
    "## Traffic Signs Recognition using CNN & Keras"
   ]
  },
  {
   "cell_type": "markdown",
   "metadata": {},
   "source": [
    "### Our approach to building this traffic sign classification model is discussed in four steps:\n",
    "\n",
    "- Explore the dataset\n",
    "- Build a CNN model\n",
    "- Train and validate the model\n",
    "- Test the model with test dataset"
   ]
  },
  {
   "cell_type": "code",
   "execution_count": 54,
   "metadata": {
    "scrolled": true
   },
   "outputs": [
    {
     "name": "stdout",
     "output_type": "stream",
     "text": [
      "Requirement already satisfied: tensorflow in c:\\users\\iron man\\anaconda3\\lib\\site-packages (2.4.1)"
     ]
    },
    {
     "name": "stderr",
     "output_type": "stream",
     "text": [
      "ERROR: Could not find a version that satisfies the requirement pil (from versions: none)\n",
      "ERROR: No matching distribution found for pil\n"
     ]
    },
    {
     "name": "stdout",
     "output_type": "stream",
     "text": [
      "\n",
      "Requirement already satisfied: keras in c:\\users\\iron man\\anaconda3\\lib\\site-packages (2.4.3)\n",
      "Requirement already satisfied: sklearn in c:\\users\\iron man\\anaconda3\\lib\\site-packages (0.0)\n",
      "Requirement already satisfied: matplotlib in c:\\users\\iron man\\anaconda3\\lib\\site-packages (3.3.2)\n",
      "Requirement already satisfied: pandas in c:\\users\\iron man\\anaconda3\\lib\\site-packages (1.1.3)\n"
     ]
    }
   ],
   "source": [
    "!pip install tensorflow keras sklearn matplotlib pandas pil\n"
   ]
  },
  {
   "cell_type": "markdown",
   "metadata": {},
   "source": [
    "### Explore the dataset\n",
    "\n",
    "Our ‘train’ folder contains 43 folders each representing a different class. The range of the folder is from 0 to 42. With the help of the OS module, we iterate over all the classes and append images and their respective labels in the data and labels list.\n",
    "\n",
    "The PIL library is used to open image content into an array"
   ]
  },
  {
   "cell_type": "code",
   "execution_count": 197,
   "metadata": {},
   "outputs": [],
   "source": [
    "import numpy as np \n",
    "import pandas as pd \n",
    "import matplotlib.pyplot as plt\n",
    "import cv2\n",
    "import tensorflow as tf\n",
    "from PIL import Image\n",
    "import os\n",
    "from sklearn.model_selection import train_test_split\n",
    "from keras.utils import to_categorical\n",
    "from keras.models import Sequential, load_model\n",
    "from keras.layers import Conv2D, MaxPool2D, Dense, Flatten, Dropout\n"
   ]
  },
  {
   "cell_type": "code",
   "execution_count": 175,
   "metadata": {},
   "outputs": [],
   "source": [
    "import os"
   ]
  },
  {
   "cell_type": "code",
   "execution_count": 176,
   "metadata": {},
   "outputs": [
    {
     "name": "stdout",
     "output_type": "stream",
     "text": [
      "C:\\Users\\IRON MAN\\dataset\\Train\n"
     ]
    }
   ],
   "source": [
    "cd/Users/IRON MAN/dataset/Train"
   ]
  },
  {
   "cell_type": "code",
   "execution_count": 177,
   "metadata": {
    "scrolled": true
   },
   "outputs": [
    {
     "data": {
      "text/plain": [
       "'C:\\\\Users\\\\IRON MAN\\\\dataset\\\\Train'"
      ]
     },
     "execution_count": 177,
     "metadata": {},
     "output_type": "execute_result"
    }
   ],
   "source": [
    "os.getcwd()"
   ]
  },
  {
   "cell_type": "code",
   "execution_count": 178,
   "metadata": {},
   "outputs": [
    {
     "name": "stdout",
     "output_type": "stream",
     "text": [
      "(39209, 30, 30, 3) (39209,)\n"
     ]
    }
   ],
   "source": [
    "# loading dataset\n",
    "data = []\n",
    "labels = []\n",
    "classes = 43\n",
    "cur_path = os.getcwd()\n",
    "\n",
    "for i in os.listdir(cur_path):\n",
    "    dir = cur_path + '/' + i\n",
    "    for j in os.listdir(dir):\n",
    "        img_path = dir+'/'+j\n",
    "        img = cv2.imread(img_path,-1)\n",
    "        img = cv2.resize(img, (30,30), interpolation = cv2.INTER_NEAREST)\n",
    "        data.append(img)\n",
    "        labels.append(i)\n",
    "        \n",
    "data = np.array(data)\n",
    "labels = np.array(labels)\n",
    "print(data.shape, labels.shape)\n",
    "\n",
    "\n",
    "\n",
    "    "
   ]
  },
  {
   "cell_type": "markdown",
   "metadata": {},
   "source": [
    "Finally, we have stored all the images and their labels into lists (data and labels). We need to convert the list into numpy arrays for feeding to the model. The shape of data is (39209, 30, 30, 3) which means that there are 39,209 images of size 30×30 pixels and the last 3 means the data contains colored images (RGB value). With the sklearn package, we use the train_test_split() method to split training and testing data.\n",
    "\n",
    "From the keras.utils package, we use to_categorical method to convert the labels present in y_train and t_test into one-hot encoding."
   ]
  },
  {
   "cell_type": "code",
   "execution_count": 179,
   "metadata": {},
   "outputs": [
    {
     "name": "stdout",
     "output_type": "stream",
     "text": [
      "(39209, 30, 30, 3) (39209,)\n",
      "(31367, 30, 30, 3) (7842, 30, 30, 3) (31367,) (7842,)\n"
     ]
    }
   ],
   "source": [
    "\n",
    "print(data.shape, labels.shape)\n",
    "#Splitting training and testing dataset\n",
    "X_train, X_test, y_train, y_test = train_test_split(data, labels, test_size=0.2, random_state=42)\n",
    "print(X_train.shape, X_test.shape, y_train.shape, y_test.shape)"
   ]
  },
  {
   "cell_type": "code",
   "execution_count": 180,
   "metadata": {},
   "outputs": [],
   "source": [
    "#Converting the labels into one hot encoding\n",
    "y_train = to_categorical(y_train, 43)\n",
    "y_test = to_categorical(y_test, 43)"
   ]
  },
  {
   "cell_type": "code",
   "execution_count": 181,
   "metadata": {},
   "outputs": [
    {
     "name": "stdout",
     "output_type": "stream",
     "text": [
      "C:\\Users\\IRON MAN\\dataset\\Train\\0\n"
     ]
    }
   ],
   "source": [
    "cd/Users/IRON MAN/dataset/Train/0"
   ]
  },
  {
   "cell_type": "markdown",
   "metadata": {},
   "source": [
    "## Let's See Image"
   ]
  },
  {
   "cell_type": "code",
   "execution_count": 183,
   "metadata": {
    "scrolled": true
   },
   "outputs": [
    {
     "data": {
      "text/plain": [
       "<matplotlib.image.AxesImage at 0x2a4da8c40a0>"
      ]
     },
     "execution_count": 183,
     "metadata": {},
     "output_type": "execute_result"
    },
    {
     "data": {
      "image/png": "[encoded data removed]",
      "text/plain": [
       "<Figure size 432x288 with 1 Axes>"
      ]
     },
     "metadata": {
      "needs_background": "light"
     },
     "output_type": "display_data"
    }
   ],
   "source": [
    "i_path = os.getcwd() + '//' + '00000_00000_00001.png'\n",
    "plt.imshow(cv2.imread(i_path, -1))"
   ]
  },
  {
   "cell_type": "markdown",
   "metadata": {},
   "source": [
    "## Build a CNN model"
   ]
  },
  {
   "cell_type": "code",
   "execution_count": 184,
   "metadata": {},
   "outputs": [],
   "source": [
    "#Building the model\n",
    "model = Sequential()\n",
    "\n",
    "# First Layer\n",
    "model.add(Conv2D(filters=32, kernel_size=(5,5), activation='relu', input_shape=X_train.shape[1:]))\n",
    "model.add(Conv2D(filters=32, kernel_size=(5,5), activation='relu'))\n",
    "model.add(MaxPool2D(pool_size=(2, 2)))\n",
    "model.add(Dropout(rate=0.25))\n",
    "\n",
    "# Second Layer \n",
    "model.add(Conv2D(filters=64, kernel_size=(3, 3), activation='relu'))\n",
    "model.add(Conv2D(filters=64, kernel_size=(3, 3), activation='relu'))\n",
    "model.add(MaxPool2D(pool_size=(2, 2)))\n",
    "model.add(Dropout(rate=0.25))\n",
    "\n",
    "\n",
    "# Dense Layer\n",
    "model.add(Flatten())\n",
    "model.add(Dense(256, activation='relu'))\n",
    "model.add(Dropout(rate=0.5))\n",
    "model.add(Dense(43, activation='softmax'))"
   ]
  },
  {
   "cell_type": "markdown",
   "metadata": {},
   "source": [
    "## Train and validate the model"
   ]
  },
  {
   "cell_type": "code",
   "execution_count": 185,
   "metadata": {},
   "outputs": [
    {
     "name": "stdout",
     "output_type": "stream",
     "text": [
      "Epoch 1/15\n",
      "491/491 [==============================] - 139s 280ms/step - loss: 4.3252 - accuracy: 0.2773 - val_loss: 0.5134 - val_accuracy: 0.8781\n",
      "Epoch 2/15\n",
      "491/491 [==============================] - 143s 291ms/step - loss: 0.8027 - accuracy: 0.7730 - val_loss: 0.2056 - val_accuracy: 0.9467\n",
      "Epoch 3/15\n",
      "491/491 [==============================] - 140s 285ms/step - loss: 0.4755 - accuracy: 0.8646 - val_loss: 0.1184 - val_accuracy: 0.9681\n",
      "Epoch 4/15\n",
      "491/491 [==============================] - 138s 282ms/step - loss: 0.3356 - accuracy: 0.9043 - val_loss: 0.1147 - val_accuracy: 0.9705\n",
      "Epoch 5/15\n",
      "491/491 [==============================] - 138s 281ms/step - loss: 0.2898 - accuracy: 0.9172 - val_loss: 0.0742 - val_accuracy: 0.9792\n",
      "Epoch 6/15\n",
      "491/491 [==============================] - 148s 302ms/step - loss: 0.2293 - accuracy: 0.9338 - val_loss: 0.0684 - val_accuracy: 0.9781\n",
      "Epoch 7/15\n",
      "491/491 [==============================] - 139s 283ms/step - loss: 0.2131 - accuracy: 0.9372 - val_loss: 0.0664 - val_accuracy: 0.9786\n",
      "Epoch 8/15\n",
      "491/491 [==============================] - 138s 280ms/step - loss: 0.2003 - accuracy: 0.9412 - val_loss: 0.0564 - val_accuracy: 0.9838\n",
      "Epoch 9/15\n",
      "491/491 [==============================] - 136s 277ms/step - loss: 0.1898 - accuracy: 0.9453 - val_loss: 0.0512 - val_accuracy: 0.9848\n",
      "Epoch 10/15\n",
      "491/491 [==============================] - 137s 280ms/step - loss: 0.1869 - accuracy: 0.9484 - val_loss: 0.0574 - val_accuracy: 0.9833\n",
      "Epoch 11/15\n",
      "491/491 [==============================] - 131s 268ms/step - loss: 0.1955 - accuracy: 0.9453 - val_loss: 0.0570 - val_accuracy: 0.9825\n",
      "Epoch 12/15\n",
      "491/491 [==============================] - 136s 278ms/step - loss: 0.1852 - accuracy: 0.9487 - val_loss: 0.0726 - val_accuracy: 0.9806\n",
      "Epoch 13/15\n",
      "491/491 [==============================] - 136s 277ms/step - loss: 0.1812 - accuracy: 0.9491 - val_loss: 0.0392 - val_accuracy: 0.9880\n",
      "Epoch 14/15\n",
      "491/491 [==============================] - 125s 255ms/step - loss: 0.1611 - accuracy: 0.9548 - val_loss: 0.0788 - val_accuracy: 0.9782\n",
      "Epoch 15/15\n",
      "491/491 [==============================] - 117s 238ms/step - loss: 0.2335 - accuracy: 0.9398 - val_loss: 0.0601 - val_accuracy: 0.9837\n"
     ]
    }
   ],
   "source": [
    "#Compilation of the model\n",
    "model.compile(loss='categorical_crossentropy', optimizer='adam', metrics=['accuracy'])\n",
    "epochs = 15\n",
    "history = model.fit(X_train, y_train, batch_size=64, epochs=epochs, validation_data=(X_test, y_test))\n",
    "model.save(\"my_model.h5\")"
   ]
  },
  {
   "cell_type": "markdown",
   "metadata": {},
   "source": [
    "## Plotting graphs for accuracy"
   ]
  },
  {
   "cell_type": "code",
   "execution_count": 186,
   "metadata": {},
   "outputs": [
    {
     "data": {
      "image/png": "[encoded data removed]",
      "text/plain": [
       "<Figure size 432x288 with 1 Axes>"
      ]
     },
     "metadata": {
      "needs_background": "light"
     },
     "output_type": "display_data"
    }
   ],
   "source": [
    "#plotting graphs for accuracy \n",
    "plt.figure(0)\n",
    "plt.plot(history.history['accuracy'], label='training accuracy')\n",
    "plt.plot(history.history['val_accuracy'], label='val accuracy')\n",
    "plt.title('Accuracy')\n",
    "plt.xlabel('epochs')\n",
    "plt.ylabel('accuracy')\n",
    "plt.legend()\n",
    "plt.show()\n"
   ]
  },
  {
   "cell_type": "code",
   "execution_count": 187,
   "metadata": {
    "scrolled": true
   },
   "outputs": [
    {
     "data": {
      "image/png": "[encoded data removed]",
      "text/plain": [
       "<Figure size 432x288 with 1 Axes>"
      ]
     },
     "metadata": {
      "needs_background": "light"
     },
     "output_type": "display_data"
    }
   ],
   "source": [
    "plt.figure(1)\n",
    "plt.plot(history.history['loss'], label='training loss')\n",
    "plt.plot(history.history['val_loss'], label='val loss')\n",
    "plt.title('Loss')\n",
    "plt.xlabel('epochs')\n",
    "plt.ylabel('loss')\n",
    "plt.legend()\n",
    "plt.show()"
   ]
  },
  {
   "cell_type": "markdown",
   "metadata": {},
   "source": [
    "# Evaluation"
   ]
  },
  {
   "cell_type": "code",
   "execution_count": 188,
   "metadata": {},
   "outputs": [
    {
     "name": "stdout",
     "output_type": "stream",
     "text": [
      "Test Loss 0.06011519581079483\n",
      "Test accuracy 0.9836776256561279\n"
     ]
    }
   ],
   "source": [
    "# Score\n",
    "score = model.evaluate(X_test, y_test, verbose=0)\n",
    "print('Test Loss', score[0])\n",
    "print('Test accuracy', score[1])"
   ]
  },
  {
   "cell_type": "code",
   "execution_count": 189,
   "metadata": {},
   "outputs": [],
   "source": [
    "y_pred = model.predict(X_test)\n",
    "y_test_class = np.argmax(y_test,axis=1)\n",
    "y_pred_class = np.argmax(y_pred,axis=1)"
   ]
  },
  {
   "cell_type": "code",
   "execution_count": 190,
   "metadata": {},
   "outputs": [
    {
     "name": "stdout",
     "output_type": "stream",
     "text": [
      "              precision    recall  f1-score   support\n",
      "\n",
      "           0       0.97      0.89      0.93        38\n",
      "           1       0.99      0.96      0.97       496\n",
      "           2       0.97      0.98      0.97       420\n",
      "           3       0.99      0.99      0.99       294\n",
      "           4       0.96      1.00      0.98       400\n",
      "           5       0.98      0.95      0.97       364\n",
      "           6       1.00      1.00      1.00        69\n",
      "           7       0.99      0.97      0.98       313\n",
      "           8       0.96      0.99      0.97       274\n",
      "           9       0.98      1.00      0.99       277\n",
      "          10       0.99      1.00      0.99       398\n",
      "          11       1.00      0.98      0.99       261\n",
      "          12       1.00      0.99      0.99       443\n",
      "          13       1.00      1.00      1.00       422\n",
      "          14       1.00      0.97      0.98       135\n",
      "          15       0.96      0.98      0.97       118\n",
      "          16       1.00      1.00      1.00        86\n",
      "          17       1.00      1.00      1.00       240\n",
      "          18       0.97      0.99      0.98       215\n",
      "          19       1.00      0.95      0.98        42\n",
      "          20       0.87      0.96      0.92        57\n",
      "          21       0.93      0.94      0.93        67\n",
      "          22       0.98      0.98      0.98        57\n",
      "          23       0.95      0.98      0.97       106\n",
      "          24       0.95      1.00      0.98        61\n",
      "          25       1.00      1.00      1.00       328\n",
      "          26       0.97      0.98      0.97       121\n",
      "          27       1.00      0.92      0.96        60\n",
      "          28       0.99      0.94      0.97       103\n",
      "          29       0.96      0.85      0.90        54\n",
      "          30       0.95      0.93      0.94        86\n",
      "          31       0.98      0.99      0.99       156\n",
      "          32       0.97      1.00      0.99        34\n",
      "          33       1.00      0.99      1.00       153\n",
      "          34       1.00      1.00      1.00        79\n",
      "          35       1.00      1.00      1.00       240\n",
      "          36       1.00      1.00      1.00        76\n",
      "          37       1.00      0.98      0.99        48\n",
      "          38       1.00      1.00      1.00       434\n",
      "          39       1.00      1.00      1.00        53\n",
      "          40       0.99      0.96      0.97        78\n",
      "          41       1.00      0.97      0.99        40\n",
      "          42       0.98      1.00      0.99        46\n",
      "\n",
      "    accuracy                           0.98      7842\n",
      "   macro avg       0.98      0.98      0.98      7842\n",
      "weighted avg       0.98      0.98      0.98      7842\n",
      "\n",
      "[[ 34   2   0 ...   0   0   0]\n",
      " [  1 477   4 ...   0   0   0]\n",
      " [  0   2 412 ...   0   0   0]\n",
      " ...\n",
      " [  0   0   0 ...  75   0   0]\n",
      " [  0   0   0 ...   0  39   0]\n",
      " [  0   0   0 ...   0   0  46]]\n"
     ]
    }
   ],
   "source": [
    "from sklearn.metrics import classification_report\n",
    "from sklearn.metrics import classification_report,confusion_matrix\n",
    "print(classification_report(y_test_class,y_pred_class))\n",
    "print(confusion_matrix(y_test_class,y_pred_class))"
   ]
  },
  {
   "cell_type": "code",
   "execution_count": 191,
   "metadata": {},
   "outputs": [
    {
     "data": {
      "text/plain": [
       "array([[ 34,   2,   0, ...,   0,   0,   0],\n",
       "       [  1, 477,   4, ...,   0,   0,   0],\n",
       "       [  0,   2, 412, ...,   0,   0,   0],\n",
       "       ...,\n",
       "       [  0,   0,   0, ...,  75,   0,   0],\n",
       "       [  0,   0,   0, ...,   0,  39,   0],\n",
       "       [  0,   0,   0, ...,   0,   0,  46]], dtype=int64)"
      ]
     },
     "execution_count": 191,
     "metadata": {},
     "output_type": "execute_result"
    }
   ],
   "source": [
    "# Making the Confusion Matrix\n",
    "from sklearn.metrics import confusion_matrix\n",
    "cm = confusion_matrix(y_test_class, y_pred_class)\n",
    "\n",
    "\n",
    "cm"
   ]
  },
  {
   "cell_type": "code",
   "execution_count": 192,
   "metadata": {},
   "outputs": [
    {
     "data": {
      "image/png": "[encoded data removed]",
      "text/plain": [
       "<Figure size 432x288 with 2 Axes>"
      ]
     },
     "metadata": {
      "needs_background": "light"
     },
     "output_type": "display_data"
    }
   ],
   "source": [
    "import seaborn as sns\n",
    "sns.heatmap(cm,annot=True)\n",
    "plt.savefig('h1.png')"
   ]
  },
  {
   "cell_type": "code",
   "execution_count": 194,
   "metadata": {},
   "outputs": [
    {
     "data": {
      "text/plain": [
       "0.9836776332568222"
      ]
     },
     "execution_count": 194,
     "metadata": {},
     "output_type": "execute_result"
    }
   ],
   "source": [
    "# Calculate the Accuracy\n",
    "from sklearn.metrics import accuracy_score\n",
    "score=accuracy_score(y_pred_class,y_test_class)\n",
    "score"
   ]
  },
  {
   "cell_type": "code",
   "execution_count": null,
   "metadata": {},
   "outputs": [],
   "source": []
  }
 ],
 "metadata": {
  "kernelspec": {
   "display_name": "Python 3",
   "language": "python",
   "name": "python3"
  },
  "language_info": {
   "codemirror_mode": {
    "name": "ipython",
    "version": 3
   },
   "file_extension": ".py",
   "mimetype": "text/x-python",
   "name": "python",
   "nbconvert_exporter": "python",
   "pygments_lexer": "ipython3",
   "version": "3.8.5"
  }
 },
 "nbformat": 4,
 "nbformat_minor": 4
}
